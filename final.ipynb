{
 "cells": [
  {
   "cell_type": "code",
   "execution_count": 1,
   "id": "2f72255f-f514-43e5-884a-a54b5940af18",
   "metadata": {},
   "outputs": [],
   "source": [
    "import pandas as pd\n",
    "fraud = pd.read_csv('onlinefraud.csv',nrows=10000)\n"
   ]
  },
  {
   "cell_type": "code",
   "execution_count": 2,
   "id": "f9ce0d44-f044-4878-a2d0-5b82cdd0d627",
   "metadata": {},
   "outputs": [
    {
     "data": {
      "text/html": [
       "<div>\n",
       "<style scoped>\n",
       "    .dataframe tbody tr th:only-of-type {\n",
       "        vertical-align: middle;\n",
       "    }\n",
       "\n",
       "    .dataframe tbody tr th {\n",
       "        vertical-align: top;\n",
       "    }\n",
       "\n",
       "    .dataframe thead th {\n",
       "        text-align: right;\n",
       "    }\n",
       "</style>\n",
       "<table border=\"1\" class=\"dataframe\">\n",
       "  <thead>\n",
       "    <tr style=\"text-align: right;\">\n",
       "      <th></th>\n",
       "      <th>step</th>\n",
       "      <th>type</th>\n",
       "      <th>amount</th>\n",
       "      <th>nameOrig</th>\n",
       "      <th>oldbalanceOrg</th>\n",
       "      <th>newbalanceOrig</th>\n",
       "      <th>nameDest</th>\n",
       "      <th>oldbalanceDest</th>\n",
       "      <th>newbalanceDest</th>\n",
       "      <th>isFraud</th>\n",
       "      <th>isFlaggedFraud</th>\n",
       "    </tr>\n",
       "  </thead>\n",
       "  <tbody>\n",
       "    <tr>\n",
       "      <th>0</th>\n",
       "      <td>1</td>\n",
       "      <td>PAYMENT</td>\n",
       "      <td>9839.64</td>\n",
       "      <td>C1231006815</td>\n",
       "      <td>170136.0</td>\n",
       "      <td>160296.36</td>\n",
       "      <td>M1979787155</td>\n",
       "      <td>0.0</td>\n",
       "      <td>0.0</td>\n",
       "      <td>0</td>\n",
       "      <td>0</td>\n",
       "    </tr>\n",
       "    <tr>\n",
       "      <th>1</th>\n",
       "      <td>1</td>\n",
       "      <td>PAYMENT</td>\n",
       "      <td>1864.28</td>\n",
       "      <td>C1666544295</td>\n",
       "      <td>21249.0</td>\n",
       "      <td>19384.72</td>\n",
       "      <td>M2044282225</td>\n",
       "      <td>0.0</td>\n",
       "      <td>0.0</td>\n",
       "      <td>0</td>\n",
       "      <td>0</td>\n",
       "    </tr>\n",
       "    <tr>\n",
       "      <th>2</th>\n",
       "      <td>1</td>\n",
       "      <td>TRANSFER</td>\n",
       "      <td>181.00</td>\n",
       "      <td>C1305486145</td>\n",
       "      <td>181.0</td>\n",
       "      <td>0.00</td>\n",
       "      <td>C553264065</td>\n",
       "      <td>0.0</td>\n",
       "      <td>0.0</td>\n",
       "      <td>1</td>\n",
       "      <td>0</td>\n",
       "    </tr>\n",
       "    <tr>\n",
       "      <th>3</th>\n",
       "      <td>1</td>\n",
       "      <td>CASH_OUT</td>\n",
       "      <td>181.00</td>\n",
       "      <td>C840083671</td>\n",
       "      <td>181.0</td>\n",
       "      <td>0.00</td>\n",
       "      <td>C38997010</td>\n",
       "      <td>21182.0</td>\n",
       "      <td>0.0</td>\n",
       "      <td>1</td>\n",
       "      <td>0</td>\n",
       "    </tr>\n",
       "    <tr>\n",
       "      <th>4</th>\n",
       "      <td>1</td>\n",
       "      <td>PAYMENT</td>\n",
       "      <td>11668.14</td>\n",
       "      <td>C2048537720</td>\n",
       "      <td>41554.0</td>\n",
       "      <td>29885.86</td>\n",
       "      <td>M1230701703</td>\n",
       "      <td>0.0</td>\n",
       "      <td>0.0</td>\n",
       "      <td>0</td>\n",
       "      <td>0</td>\n",
       "    </tr>\n",
       "  </tbody>\n",
       "</table>\n",
       "</div>"
      ],
      "text/plain": [
       "   step      type    amount     nameOrig  oldbalanceOrg  newbalanceOrig  \\\n",
       "0     1   PAYMENT   9839.64  C1231006815       170136.0       160296.36   \n",
       "1     1   PAYMENT   1864.28  C1666544295        21249.0        19384.72   \n",
       "2     1  TRANSFER    181.00  C1305486145          181.0            0.00   \n",
       "3     1  CASH_OUT    181.00   C840083671          181.0            0.00   \n",
       "4     1   PAYMENT  11668.14  C2048537720        41554.0        29885.86   \n",
       "\n",
       "      nameDest  oldbalanceDest  newbalanceDest  isFraud  isFlaggedFraud  \n",
       "0  M1979787155             0.0             0.0        0               0  \n",
       "1  M2044282225             0.0             0.0        0               0  \n",
       "2   C553264065             0.0             0.0        1               0  \n",
       "3    C38997010         21182.0             0.0        1               0  \n",
       "4  M1230701703             0.0             0.0        0               0  "
      ]
     },
     "execution_count": 2,
     "metadata": {},
     "output_type": "execute_result"
    }
   ],
   "source": [
    "fraud.head()"
   ]
  },
  {
   "cell_type": "code",
   "execution_count": 3,
   "id": "81a3df65-aa6d-4bd7-94b0-289ff4865660",
   "metadata": {},
   "outputs": [
    {
     "data": {
      "text/plain": [
       "step              0\n",
       "type              0\n",
       "amount            0\n",
       "nameOrig          0\n",
       "oldbalanceOrg     0\n",
       "newbalanceOrig    0\n",
       "nameDest          0\n",
       "oldbalanceDest    0\n",
       "newbalanceDest    0\n",
       "isFraud           0\n",
       "isFlaggedFraud    0\n",
       "dtype: int64"
      ]
     },
     "execution_count": 3,
     "metadata": {},
     "output_type": "execute_result"
    }
   ],
   "source": [
    "#Check for Null Values\n",
    "fraud.isnull().sum()"
   ]
  },
  {
   "cell_type": "code",
   "execution_count": 4,
   "id": "74eda960-2ee8-4055-8f03-72e6b63ade62",
   "metadata": {},
   "outputs": [],
   "source": [
    "encoding = pd.get_dummies(fraud, columns=['type'], drop_first=True)"
   ]
  },
  {
   "cell_type": "code",
   "execution_count": 5,
   "id": "caa1aca3-e42c-4d1f-8a1a-28a519c41760",
   "metadata": {},
   "outputs": [],
   "source": [
    "from sklearn.preprocessing import MinMaxScaler\n",
    "scaler = MinMaxScaler()\n",
    "columns_to_scale = ['amount', 'oldbalanceOrg', 'newbalanceOrig', 'oldbalanceDest', 'newbalanceDest']\n",
    "encoding[columns_to_scale] = scaler.fit_transform(encoding[columns_to_scale])"
   ]
  },
  {
   "cell_type": "code",
   "execution_count": 6,
   "id": "740f9fa2-a5b2-4971-90a8-c0854e0e95e1",
   "metadata": {},
   "outputs": [
    {
     "data": {
      "text/plain": [
       "10000"
      ]
     },
     "execution_count": 6,
     "metadata": {},
     "output_type": "execute_result"
    }
   ],
   "source": [
    "import sqlite3\n",
    "conn = sqlite3.connect('onlinefraud.db')\n",
    "encoding.to_sql('transactions', conn, if_exists='replace', index=False)"
   ]
  },
  {
   "cell_type": "markdown",
   "id": "2b3e5025-656f-4d34-8c3f-c1859851d157",
   "metadata": {},
   "source": [
    "## Exploratory Data Analysis"
   ]
  },
  {
   "cell_type": "code",
   "execution_count": 7,
   "id": "9673c1cd-e635-4023-bb19-0c173fd70317",
   "metadata": {},
   "outputs": [],
   "source": [
    "import matplotlib.pyplot as plt\n",
    "import seaborn as sns"
   ]
  },
  {
   "cell_type": "code",
   "execution_count": 8,
   "id": "d94e51e0-695e-49f6-9756-ef66b855c4e8",
   "metadata": {},
   "outputs": [
    {
     "data": {
      "text/plain": [
       "isFraud\n",
       "0    9932\n",
       "1      68\n",
       "Name: count, dtype: int64"
      ]
     },
     "execution_count": 8,
     "metadata": {},
     "output_type": "execute_result"
    }
   ],
   "source": [
    "fraud_count = fraud['isFraud'].value_counts()\n",
    "fraud_count"
   ]
  },
  {
   "cell_type": "code",
   "execution_count": 9,
   "id": "cccc2eff-2338-4fc7-8d05-839dd73f2b63",
   "metadata": {},
   "outputs": [
    {
     "data": {
      "text/plain": [
       "0.00684655658477648"
      ]
     },
     "execution_count": 9,
     "metadata": {},
     "output_type": "execute_result"
    }
   ],
   "source": [
    "x  = 68 / 9932\n",
    "x"
   ]
  },
  {
   "cell_type": "markdown",
   "id": "4d044bd6-5976-490c-8cf7-b4bd704ba492",
   "metadata": {},
   "source": [
    "#### This means that only .6% of payments were fraudulent!"
   ]
  },
  {
   "cell_type": "code",
   "execution_count": 10,
   "id": "7f5070f4-b3ca-4141-83fb-c5f5b3e13382",
   "metadata": {},
   "outputs": [
    {
     "data": {
      "image/png": "[encoded data removed]",
      "text/plain": [
       "<Figure size 500x500 with 1 Axes>"
      ]
     },
     "metadata": {},
     "output_type": "display_data"
    }
   ],
   "source": [
    "payment_counts = fraud['type'].value_counts()\n",
    "plt.figure(figsize=(5, 5))  \n",
    "plt.pie(payment_counts, labels=payment_counts.index, autopct='%1.1f%%', startangle=90)\n",
    "plt.title(\"Distribution of Payment Types\")\n",
    "plt.show()\n"
   ]
  },
  {
   "cell_type": "code",
   "execution_count": 11,
   "id": "65ce93b0-566a-4798-96fd-4ecb58cf805e",
   "metadata": {},
   "outputs": [
    {
     "data": {
      "image/png": "[encoded data removed]",
      "text/plain": [
       "<Figure size 500x500 with 1 Axes>"
      ]
     },
     "metadata": {},
     "output_type": "display_data"
    }
   ],
   "source": [
    "#Subsets the dataset to include only fraudulent transactions\n",
    "fraudulent_transactions = fraud[fraud['isFraud'] == 1]\n",
    "\n",
    "fraudulent_payment_counts = fraudulent_transactions['type'].value_counts()\n",
    "\n",
    "plt.figure(figsize=(5, 5))  \n",
    "plt.pie(fraudulent_payment_counts, labels=fraudulent_payment_counts.index, autopct='%1.1f%%', startangle=90)\n",
    "plt.title(\"Distribution of Payment Types in Fraudulent Transactions\")\n",
    "plt.show()"
   ]
  },
  {
   "cell_type": "markdown",
   "id": "b013962c-42a6-438b-8a4b-1b234f394943",
   "metadata": {},
   "source": [
    "### Very Interesting! It appears the the only type of fraudulent transactions are either cash_out or transfers!"
   ]
  },
  {
   "cell_type": "code",
   "execution_count": 13,
   "id": "ab9cc1e3-3e67-4a56-ae22-5bd47305ad80",
   "metadata": {},
   "outputs": [
    {
     "data": {
      "image/png": "[encoded data removed]",
      "text/plain": [
       "<Figure size 640x480 with 1 Axes>"
      ]
     },
     "metadata": {},
     "output_type": "display_data"
    }
   ],
   "source": [
    "import sqlite3\n",
    "import pandas as pd\n",
    "import matplotlib.pyplot as plt\n",
    "\n",
    "# Connect to the SQLite database\n",
    "conn = sqlite3.connect(\"fraud_data.db\")\n",
    "fraud.to_sql('fraud_transactions', conn, index=False, if_exists='replace')\n",
    "\n",
    "\n",
    "# SQL query to calculate the average transaction amount for fraudulent transactions\n",
    "query = \"\"\"\n",
    "SELECT type, AVG(amount) AS avg_amount\n",
    "FROM fraud_transactions\n",
    "WHERE isFraud = 1 AND type IN ('CASH_OUT', 'TRANSFER')\n",
    "GROUP BY type;\n",
    "\"\"\"\n",
    "\n",
    "# Execute the query and load the data into a pandas DataFrame\n",
    "df = pd.read_sql_query(query, conn)\n",
    "\n",
    "# Close the database connection\n",
    "conn.close()\n",
    "\n",
    "# Plot the data\n",
    "plt.bar(df['type'], df['avg_amount'], color=['blue', 'green'])\n",
    "plt.title(\"Average Transaction Amount for Fraudulent Transfers\")\n",
    "plt.xlabel(\"Transaction Type\")\n",
    "plt.ylabel(\"Average Amount\")\n",
    "plt.xticks(rotation=45)\n",
    "plt.show()\n"
   ]
  },
  {
   "cell_type": "markdown",
   "id": "9a71585a-f844-4e17-bf9c-b14264b66775",
   "metadata": {},
   "source": [
    "### This means that fraudulent 'transfers' have slightly higher amounts compared to fraudulent 'cash_out's\n",
    "\n",
    "### I want to delve deeper into this, so I plotted the average amount for both legitimate and fraudulent transactions"
   ]
  },
  {
   "cell_type": "code",
   "execution_count": null,
   "id": "81a6d03d-4629-41af-ad61-9a450b344819",
   "metadata": {},
   "outputs": [],
   "source": [
    "import sqlite3\n",
    "\n",
    "conn = sqlite3.connect('fraud_data.db') \n",
    "\n",
    "fraud.to_sql('fraud_transactions', conn, index=False, if_exists='replace')\n",
    "\n",
    "conn.execute('CREATE INDEX IF NOT EXISTS idx_isFraud ON fraud_transactions(isFraud);')\n",
    "\n",
    "query = \"\"\"\n",
    "SELECT isFraud, \n",
    "       AVG(amount) AS avg_amount, \n",
    "       AVG(oldbalanceOrg) AS avg_oldbalanceOrg,\n",
    "       AVG(newbalanceOrig) AS avg_newbalanceOrig\n",
    "FROM fraud_transactions\n",
    "GROUP BY isFraud;\n",
    "\"\"\"\n",
    "\n",
    "fraud_by_type_sql = pd.read_sql(query, conn)\n",
    "\n",
    "fig, axes = plt.subplots(1, 3, figsize=(18, 6))\n",
    "\n",
    "# List of variables to plot\n",
    "variables = ['avg_amount', 'avg_oldbalanceOrg', 'avg_newbalanceOrig']\n",
    "titles = ['Average Amount', 'Average Old Balance', 'Average New Balance']\n",
    "\n",
    "\n",
    "for i, var in enumerate(variables):\n",
    "    ax = axes[i]\n",
    "    data = fraud_by_type_sql.groupby('isFraud')[var].mean()\n",
    "    ax.bar(['Legitimate', 'Fraudulent'], data, color=['green', 'red'])\n",
    "    ax.set_title(titles[i], fontsize=14)\n",
    "    ax.set_xlabel('Fraud Status (0=Legitimate, 1=Fraudulent)', fontsize=12)\n",
    "    ax.set_ylabel(f'Average {titles[i]}', fontsize=12)\n",
    "    ax.set_ylim(0, data.max() * 1.2)\n",
    "plt.tight_layout()\n",
    "plt.show()\n",
    "conn.close()\n"
   ]
  },
  {
   "cell_type": "markdown",
   "id": "bd5c4828-fee6-47d4-a108-48200092bf2e",
   "metadata": {},
   "source": [
    "### Interesting! We've scaled the data, which is why the values range from 0 to 1. \n",
    "\n",
    "### It's very clear that fraudulent transactions have much higher amounts than legitimate ones. Additionally, fraudulent transactions leave much lower newer balances compared to legitimate ones.\n",
    "\n",
    "#### Another interesting note, it appears that fraudulent transactions happen to people with lower balances. Interesting note\n",
    "\n",
    "\n",
    "## Model Development\n",
    "### Lets develop models to predict fraudulent transactions"
   ]
  },
  {
   "cell_type": "code",
   "execution_count": 15,
   "id": "f2b9c7c4-9ee3-4b01-b541-624044e55473",
   "metadata": {},
   "outputs": [
    {
     "name": "stdout",
     "output_type": "stream",
     "text": [
      "My goal is to build a prediction model that has a higher accuracy rate than 0.9931534434152235\n"
     ]
    }
   ],
   "source": [
    "standard = 1-x\n",
    "print(\"My goal is to build a prediction model that has a higher accuracy rate than\", standard)"
   ]
  },
  {
   "cell_type": "markdown",
   "id": "8b499f95-8528-4ffe-8dad-33de3bf58ce6",
   "metadata": {},
   "source": [
    "### Logistic Regression"
   ]
  },
  {
   "cell_type": "code",
   "execution_count": 16,
   "id": "a3179e5e-19a9-4b4e-83ec-2bd52f773025",
   "metadata": {},
   "outputs": [],
   "source": [
    "#Import libraries\n",
    "from sklearn.model_selection import train_test_split\n",
    "from sklearn.linear_model import LogisticRegression\n",
    "from sklearn.tree import DecisionTreeClassifier\n",
    "from sklearn.metrics import classification_report, roc_auc_score"
   ]
  },
  {
   "cell_type": "code",
   "execution_count": 17,
   "id": "6e1651fe-e025-4251-810e-0b47f682fad9",
   "metadata": {},
   "outputs": [],
   "source": [
    "# One hot encoding\n",
    "X = encoding.drop(['isFraud', 'isFlaggedFraud'], axis=1)\n",
    "y = encoding['isFraud']"
   ]
  },
  {
   "cell_type": "code",
   "execution_count": 18,
   "id": "672f60dc-fad7-4595-9aeb-f58d5cf5c749",
   "metadata": {},
   "outputs": [],
   "source": [
    "X_train, X_test, y_train, y_test = train_test_split(X, y, test_size=0.3, random_state=42, stratify=y)"
   ]
  },
  {
   "cell_type": "code",
   "execution_count": 19,
   "id": "4b51f979-9433-41cd-a7dc-e0ff56750f49",
   "metadata": {},
   "outputs": [
    {
     "name": "stdout",
     "output_type": "stream",
     "text": [
      "Logistic Regression Report:\n",
      "              precision    recall  f1-score   support\n",
      "\n",
      "           0       0.99      1.00      1.00      1488\n",
      "           1       0.00      0.00      0.00        12\n",
      "\n",
      "    accuracy                           0.99      1500\n",
      "   macro avg       0.50      0.50      0.50      1500\n",
      "weighted avg       0.98      0.99      0.99      1500\n",
      "\n"
     ]
    },
    {
     "name": "stderr",
     "output_type": "stream",
     "text": [
      "/usr/lib/anaconda3/lib/python3.12/site-packages/sklearn/metrics/_classification.py:1509: UndefinedMetricWarning: Precision is ill-defined and being set to 0.0 in labels with no predicted samples. Use `zero_division` parameter to control this behavior.\n",
      "  _warn_prf(average, modifier, f\"{metric.capitalize()} is\", len(result))\n",
      "/usr/lib/anaconda3/lib/python3.12/site-packages/sklearn/metrics/_classification.py:1509: UndefinedMetricWarning: Precision is ill-defined and being set to 0.0 in labels with no predicted samples. Use `zero_division` parameter to control this behavior.\n",
      "  _warn_prf(average, modifier, f\"{metric.capitalize()} is\", len(result))\n",
      "/usr/lib/anaconda3/lib/python3.12/site-packages/sklearn/metrics/_classification.py:1509: UndefinedMetricWarning: Precision is ill-defined and being set to 0.0 in labels with no predicted samples. Use `zero_division` parameter to control this behavior.\n",
      "  _warn_prf(average, modifier, f\"{metric.capitalize()} is\", len(result))\n"
     ]
    }
   ],
   "source": [
    "from sklearn.model_selection import train_test_split\n",
    "from sklearn.linear_model import LogisticRegression\n",
    "from sklearn.metrics import classification_report\n",
    "\n",
    "\n",
    "data = pd.read_csv('onlinefraud.csv',nrows=5000)\n",
    "data = data.drop(['nameOrig', 'nameDest'], axis=1)\n",
    "\n",
    "data = pd.get_dummies(data, columns=['type'], drop_first=True)\n",
    "\n",
    "from sklearn.preprocessing import MinMaxScaler\n",
    "\n",
    "scaler = MinMaxScaler()\n",
    "columns_to_scale = ['amount', 'oldbalanceOrg', 'newbalanceOrig', 'oldbalanceDest', 'newbalanceDest']\n",
    "data[columns_to_scale] = scaler.fit_transform(data[columns_to_scale])\n",
    "\n",
    "\n",
    "X = data.drop(['isFraud', 'isFlaggedFraud'], axis=1)  \n",
    "y = data['isFraud']\n",
    "\n",
    "X_train, X_test, y_train, y_test = train_test_split(X, y, test_size=0.3, random_state=42, stratify=y)\n",
    "\n",
    "lr_model = LogisticRegression(max_iter=1000)\n",
    "lr_model.fit(X_train, y_train)\n",
    "lr_preds = lr_model.predict(X_test)\n",
    "\n",
    "print(\"Logistic Regression Report:\")\n",
    "print(classification_report(y_test, lr_preds))\n"
   ]
  },
  {
   "cell_type": "markdown",
   "id": "65c786cc-2cb1-41c8-8e10-bb5794cc3f93",
   "metadata": {},
   "source": [
    "#### Because this model is overbalanced, Logistic Regression is struggling to accurately identify fraudulent models. Let's try other methods\n",
    "\n",
    "### RandomForest"
   ]
  },
  {
   "cell_type": "code",
   "execution_count": 20,
   "id": "a1338997-49cf-4812-99ac-f2a09b546827",
   "metadata": {},
   "outputs": [
    {
     "name": "stdout",
     "output_type": "stream",
     "text": [
      "Random Forest Report:\n",
      "              precision    recall  f1-score   support\n",
      "\n",
      "           0       1.00      1.00      1.00      1488\n",
      "           1       1.00      0.50      0.67        12\n",
      "\n",
      "    accuracy                           1.00      1500\n",
      "   macro avg       1.00      0.75      0.83      1500\n",
      "weighted avg       1.00      1.00      1.00      1500\n",
      "\n",
      "AUC-ROC Score: 0.9998039874551972\n"
     ]
    }
   ],
   "source": [
    "from sklearn.ensemble import RandomForestClassifier\n",
    "\n",
    "rf_model = RandomForestClassifier(n_estimators=100, random_state=42)\n",
    "rf_model.fit(X_train, y_train)\n",
    "rf_preds = rf_model.predict(X_test)\n",
    "\n",
    "\n",
    "print(\"Random Forest Report:\")\n",
    "print(classification_report(y_test, rf_preds))\n",
    "print(f\"AUC-ROC Score: {roc_auc_score(y_test, rf_model.predict_proba(X_test)[:, 1])}\")\n"
   ]
  },
  {
   "cell_type": "markdown",
   "id": "b596e31d-22ab-4a20-8edb-3512e6525bc2",
   "metadata": {},
   "source": [
    "#### While this is better, it can only identify fraudulent transactions at a 50% rate. Let's work on this and improve it"
   ]
  },
  {
   "cell_type": "code",
   "execution_count": 21,
   "id": "51d13b64-ebbb-4a40-8741-8ddf09687205",
   "metadata": {},
   "outputs": [
    {
     "name": "stdout",
     "output_type": "stream",
     "text": [
      "Fitting 5 folds for each of 27 candidates, totalling 135 fits\n",
      "Random Forest Report:\n",
      "              precision    recall  f1-score   support\n",
      "\n",
      "           0       1.00      1.00      1.00      1488\n",
      "           1       0.59      0.83      0.69        12\n",
      "\n",
      "    accuracy                           0.99      1500\n",
      "   macro avg       0.79      0.91      0.84      1500\n",
      "weighted avg       1.00      0.99      0.99      1500\n",
      "\n",
      "AUC-ROC Score: 0.9972278225806451\n",
      "Random Forest Report (Adjusted Threshold):\n",
      "              precision    recall  f1-score   support\n",
      "\n",
      "           0       1.00      0.99      1.00      1488\n",
      "           1       0.50      0.92      0.65        12\n",
      "\n",
      "    accuracy                           0.99      1500\n",
      "   macro avg       0.75      0.95      0.82      1500\n",
      "weighted avg       1.00      0.99      0.99      1500\n",
      "\n",
      "AUC-ROC Score (Adjusted Threshold): 0.9972278225806451\n"
     ]
    }
   ],
   "source": [
    "from sklearn.ensemble import RandomForestClassifier\n",
    "from sklearn.model_selection import GridSearchCV\n",
    "from sklearn.metrics import classification_report, roc_auc_score\n",
    "from imblearn.over_sampling import SMOTE\n",
    "\n",
    "# 1. Oversample the Minority Class (SMOTE)\n",
    "smote = SMOTE(random_state=42)\n",
    "X_train_resampled, y_train_resampled = smote.fit_resample(X_train, y_train)\n",
    "\n",
    "# 2. Adjust Class Weights\n",
    "rf_model = RandomForestClassifier(random_state=42, class_weight={0: 1, 1: 10})\n",
    "\n",
    "# 3. Perform Hyperparameter Tuning with GridSearchCV\n",
    "param_grid = {\n",
    "    'n_estimators': [100, 200, 300],\n",
    "    'max_depth': [10, 20, None],\n",
    "    'min_samples_split': [2, 5, 10]\n",
    "}\n",
    "\n",
    "grid_search = GridSearchCV(estimator=rf_model,\n",
    "                           param_grid=param_grid,\n",
    "                           scoring='roc_auc',\n",
    "                           cv=5,\n",
    "                           verbose=1)\n",
    "\n",
    "grid_search.fit(X_train_resampled, y_train_resampled)\n",
    "\n",
    "# Use the best model\n",
    "best_rf_model = grid_search.best_estimator_\n",
    "\n",
    "# 4. Evaluate the Best Model\n",
    "rf_preds = best_rf_model.predict(X_test)\n",
    "rf_probs = best_rf_model.predict_proba(X_test)[:, 1]\n",
    "\n",
    "print(\"Random Forest Report:\")\n",
    "print(classification_report(y_test, rf_preds))\n",
    "print(f\"AUC-ROC Score: {roc_auc_score(y_test, rf_probs)}\")\n",
    "\n",
    "# 5. Adjust Prediction Threshold for Recall\n",
    "threshold = 0.3  # Experiment with this value\n",
    "rf_preds_threshold = (rf_probs >= threshold).astype(int)\n",
    "\n",
    "print(\"Random Forest Report (Adjusted Threshold):\")\n",
    "print(classification_report(y_test, rf_preds_threshold))\n",
    "print(f\"AUC-ROC Score (Adjusted Threshold): {roc_auc_score(y_test, rf_probs)}\")\n"
   ]
  },
  {
   "cell_type": "markdown",
   "id": "6d9c25a2-f32c-4cc4-886f-b34460193f22",
   "metadata": {},
   "source": [
    "###\n",
    "Default Threshold (0.5)\n",
    "Metrics Breakdown:\n",
    "\n",
    "    Precision (1): 0.59\n",
    "        Of all transactions predicted as fraud, 59% were actually fraudulent.\n",
    "        There are some false positives, but it’s reasonable given the recall improvement.\n",
    "\n",
    "    Recall (1): 0.83\n",
    "        The model successfully identified 83% of fraudulent transactions.\n",
    "        This is a significant improvement over the previous models, reducing the number of false negatives (missed frauds).\n",
    "\n",
    "    F1-Score (1): 0.69\n",
    "        A harmonic mean of precision and recall for fraudulent transactions. A higher F1-score indicates a good balance between precision and recall.\n",
    "\n",
    "    AUC-ROC Score: 0.9972\n",
    "        The model has excellent discriminatory power, distinguishing between legitimate and fraudulent transactions very well, and beats our goal of building a model with a higher accuracy rate than 0.9931534434152235!!!\n",
    "\n",
    "Adjusted Threshold (0.3)\n",
    "Metrics Breakdown:\n",
    "\n",
    "    Precision (1): 0.50\n",
    "        Precision dropped because lowering the threshold leads to more transactions being predicted as fraud (increasing false positives).\n",
    "\n",
    "    Recall (1): 0.92\n",
    "        Recall increased to 92%, meaning the model now catches nearly all fraudulent transactions.\n",
    "        This is critical in scenarios where missing a fraudulent transaction is costlier than a false alarm.\n",
    "\n",
    "    F1-Score (1): 0.65\n",
    "        The F1-score slightly dropped due to the trade-off between precision and recall, but recall improvement compensates for this.\n",
    "\n",
    "    Accuracy:\n",
    "        Accuracy remains very high (99%), but it’s less informative due to class imbalance (legitimate transactions dominate).\n",
    "\n",
    "    AUC-ROC Score: 0.9972\n",
    "        The AUC-ROC score remains unchanged, as it evaluates the model's ability to rank predictions rather than its classification threshold.\n",
    "\n",
    "Key Insights\n",
    "\n",
    "    Default Threshold (0.5):\n",
    "        Good balance between precision and recall.\n",
    "        Better suited for scenarios where precision is as important as recall (e.g., avoiding false positives to minimize investigation costs).\n",
    "\n",
    "    Adjusted Threshold (0.3):\n",
    "        High recall ensures nearly all fraudulent transactions are identified.\n",
    "        Ideal for scenarios where missing fraud (false negatives) has a significant cost or risk."
   ]
  },
  {
   "cell_type": "markdown",
   "id": "8b48d982-4345-41bf-a33e-402c94539784",
   "metadata": {},
   "source": [
    "### Simulating a transaction"
   ]
  },
  {
   "cell_type": "code",
   "execution_count": 24,
   "id": "c7f5e4d9-09d2-4be3-855c-de5c4c40bf92",
   "metadata": {},
   "outputs": [
    {
     "name": "stdout",
     "output_type": "stream",
     "text": [
      "Transaction Safe\n"
     ]
    }
   ],
   "source": [
    "# Simulate a transaction\n",
    "new_transaction = {\n",
    "    'step': 5,\n",
    "    'amount': 5000,\n",
    "    'oldbalanceOrg': 20000,\n",
    "    'newbalanceOrig': 15000,\n",
    "    'oldbalanceDest': 0,\n",
    "    'newbalanceDest': 0,\n",
    "    'type_CASH_OUT': 0,\n",
    "    'type_PAYMENT': 1,\n",
    "    'type_TRANSFER': 0,\n",
    "    'type_DEBIT': 0,\n",
    "    'type_DEPOSIT': 0\n",
    "}\n",
    "\n",
    "# Convert to DataFrame\n",
    "new_transaction_df = pd.DataFrame([new_transaction])\n",
    "\n",
    "# Normalize numerical data\n",
    "new_transaction_df[columns_to_scale] = scaler.transform(new_transaction_df[columns_to_scale])\n",
    "\n",
    "# Predict fraud\n",
    "# Ensure the transaction data has the same columns as the training data\n",
    "# Get the columns from the training data\n",
    "columns_in_training = X_train.columns  # or list of columns used during training\n",
    "\n",
    "# Ensure new transaction has the same columns\n",
    "new_transaction_df = new_transaction_df[columns_in_training]\n",
    "\n",
    "# Normalize numerical data (only scale numerical features that were scaled during training)\n",
    "new_transaction_df[columns_to_scale] = scaler.transform(new_transaction_df[columns_to_scale])\n",
    "\n",
    "# Predict fraud\n",
    "fraud_prediction = best_rf_model.predict(new_transaction_df)\n",
    "print(\"Fraud Detected!\" if fraud_prediction[0] == 1 else \"Transaction Safe\")\n",
    "\n"
   ]
  },
  {
   "cell_type": "code",
   "execution_count": null,
   "id": "4a2486ad-1919-43fb-a587-5fd62b67201b",
   "metadata": {},
   "outputs": [],
   "source": []
  }
 ],
 "metadata": {
  "kernelspec": {
   "display_name": "Python 3 (ipykernel)",
   "language": "python",
   "name": "python3"
  },
  "language_info": {
   "codemirror_mode": {
    "name": "ipython",
    "version": 3
   },
   "file_extension": ".py",
   "mimetype": "text/x-python",
   "name": "python",
   "nbconvert_exporter": "python",
   "pygments_lexer": "ipython3",
   "version": "3.12.2"
  }
 },
 "nbformat": 4,
 "nbformat_minor": 5
}
