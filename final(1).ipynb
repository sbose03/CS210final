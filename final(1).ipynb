{
 "cells": [
  {
   "cell_type": "code",
   "execution_count": 1,
   "id": "7eb9a7bd-6ba5-4639-a341-ca96ae9cc0bc",
   "metadata": {},
   "outputs": [],
   "source": [
    "import pandas as pd\n",
    "fraud = pd.read_csv('onlinefraud.csv',nrows=10000)"
   ]
  },
  {
   "cell_type": "code",
   "execution_count": 2,
   "id": "bed76ab6-6bce-4859-b315-ac076baed822",
   "metadata": {},
   "outputs": [
    {
     "data": {
      "text/html": [
       "<div>\n",
       "<style scoped>\n",
       "    .dataframe tbody tr th:only-of-type {\n",
       "        vertical-align: middle;\n",
       "    }\n",
       "\n",
       "    .dataframe tbody tr th {\n",
       "        vertical-align: top;\n",
       "    }\n",
       "\n",
       "    .dataframe thead th {\n",
       "        text-align: right;\n",
       "    }\n",
       "</style>\n",
       "<table border=\"1\" class=\"dataframe\">\n",
       "  <thead>\n",
       "    <tr style=\"text-align: right;\">\n",
       "      <th></th>\n",
       "      <th>step</th>\n",
       "      <th>type</th>\n",
       "      <th>amount</th>\n",
       "      <th>nameOrig</th>\n",
       "      <th>oldbalanceOrg</th>\n",
       "      <th>newbalanceOrig</th>\n",
       "      <th>nameDest</th>\n",
       "      <th>oldbalanceDest</th>\n",
       "      <th>newbalanceDest</th>\n",
       "      <th>isFraud</th>\n",
       "      <th>isFlaggedFraud</th>\n",
       "    </tr>\n",
       "  </thead>\n",
       "  <tbody>\n",
       "    <tr>\n",
       "      <th>0</th>\n",
       "      <td>1</td>\n",
       "      <td>PAYMENT</td>\n",
       "      <td>9839.64</td>\n",
       "      <td>C1231006815</td>\n",
       "      <td>170136.0</td>\n",
       "      <td>160296.36</td>\n",
       "      <td>M1979787155</td>\n",
       "      <td>0.0</td>\n",
       "      <td>0.0</td>\n",
       "      <td>0</td>\n",
       "      <td>0</td>\n",
       "    </tr>\n",
       "    <tr>\n",
       "      <th>1</th>\n",
       "      <td>1</td>\n",
       "      <td>PAYMENT</td>\n",
       "      <td>1864.28</td>\n",
       "      <td>C1666544295</td>\n",
       "      <td>21249.0</td>\n",
       "      <td>19384.72</td>\n",
       "      <td>M2044282225</td>\n",
       "      <td>0.0</td>\n",
       "      <td>0.0</td>\n",
       "      <td>0</td>\n",
       "      <td>0</td>\n",
       "    </tr>\n",
       "    <tr>\n",
       "      <th>2</th>\n",
       "      <td>1</td>\n",
       "      <td>TRANSFER</td>\n",
       "      <td>181.00</td>\n",
       "      <td>C1305486145</td>\n",
       "      <td>181.0</td>\n",
       "      <td>0.00</td>\n",
       "      <td>C553264065</td>\n",
       "      <td>0.0</td>\n",
       "      <td>0.0</td>\n",
       "      <td>1</td>\n",
       "      <td>0</td>\n",
       "    </tr>\n",
       "    <tr>\n",
       "      <th>3</th>\n",
       "      <td>1</td>\n",
       "      <td>CASH_OUT</td>\n",
       "      <td>181.00</td>\n",
       "      <td>C840083671</td>\n",
       "      <td>181.0</td>\n",
       "      <td>0.00</td>\n",
       "      <td>C38997010</td>\n",
       "      <td>21182.0</td>\n",
       "      <td>0.0</td>\n",
       "      <td>1</td>\n",
       "      <td>0</td>\n",
       "    </tr>\n",
       "    <tr>\n",
       "      <th>4</th>\n",
       "      <td>1</td>\n",
       "      <td>PAYMENT</td>\n",
       "      <td>11668.14</td>\n",
       "      <td>C2048537720</td>\n",
       "      <td>41554.0</td>\n",
       "      <td>29885.86</td>\n",
       "      <td>M1230701703</td>\n",
       "      <td>0.0</td>\n",
       "      <td>0.0</td>\n",
       "      <td>0</td>\n",
       "      <td>0</td>\n",
       "    </tr>\n",
       "  </tbody>\n",
       "</table>\n",
       "</div>"
      ],
      "text/plain": [
       "   step      type    amount     nameOrig  oldbalanceOrg  newbalanceOrig  \\\n",
       "0     1   PAYMENT   9839.64  C1231006815       170136.0       160296.36   \n",
       "1     1   PAYMENT   1864.28  C1666544295        21249.0        19384.72   \n",
       "2     1  TRANSFER    181.00  C1305486145          181.0            0.00   \n",
       "3     1  CASH_OUT    181.00   C840083671          181.0            0.00   \n",
       "4     1   PAYMENT  11668.14  C2048537720        41554.0        29885.86   \n",
       "\n",
       "      nameDest  oldbalanceDest  newbalanceDest  isFraud  isFlaggedFraud  \n",
       "0  M1979787155             0.0             0.0        0               0  \n",
       "1  M2044282225             0.0             0.0        0               0  \n",
       "2   C553264065             0.0             0.0        1               0  \n",
       "3    C38997010         21182.0             0.0        1               0  \n",
       "4  M1230701703             0.0             0.0        0               0  "
      ]
     },
     "execution_count": 2,
     "metadata": {},
     "output_type": "execute_result"
    }
   ],
   "source": [
    "fraud.head()"
   ]
  },
  {
   "cell_type": "code",
   "execution_count": 3,
   "id": "cb7b86f8-9607-4071-a3a1-7da8f9139943",
   "metadata": {},
   "outputs": [
    {
     "data": {
      "text/plain": [
       "step              0\n",
       "type              0\n",
       "amount            0\n",
       "nameOrig          0\n",
       "oldbalanceOrg     0\n",
       "newbalanceOrig    0\n",
       "nameDest          0\n",
       "oldbalanceDest    0\n",
       "newbalanceDest    0\n",
       "isFraud           0\n",
       "isFlaggedFraud    0\n",
       "dtype: int64"
      ]
     },
     "execution_count": 3,
     "metadata": {},
     "output_type": "execute_result"
    }
   ],
   "source": [
    "#Check for Null Values\n",
    "\n",
    "fraud.isnull().sum()"
   ]
  },
  {
   "cell_type": "code",
   "execution_count": 4,
   "id": "b8032b3a-6f74-44fc-9f83-76270f54f0dc",
   "metadata": {},
   "outputs": [],
   "source": [
    "encoding = pd.get_dummies(fraud, columns=['type'], drop_first=True)"
   ]
  },
  {
   "cell_type": "code",
   "execution_count": 5,
   "id": "5ec9a11e-8192-455f-badc-c83dbe6c50b9",
   "metadata": {},
   "outputs": [],
   "source": [
    "from sklearn.preprocessing import MinMaxScaler\n",
    "\n",
    "scaler = MinMaxScaler()\n",
    "\n",
    "columns_to_scale = ['amount', 'oldbalanceOrg', 'newbalanceOrig', 'oldbalanceDest', 'newbalanceDest']\n",
    "\n",
    "encoding[columns_to_scale] = scaler.fit_transform(encoding[columns_to_scale])"
   ]
  },
  {
   "cell_type": "code",
   "execution_count": 6,
   "id": "ac9bdadc-7ef7-4e68-9fa8-9e0d95fb1c24",
   "metadata": {},
   "outputs": [
    {
     "data": {
      "text/plain": [
       "10000"
      ]
     },
     "execution_count": 6,
     "metadata": {},
     "output_type": "execute_result"
    }
   ],
   "source": [
    "import sqlite3\n",
    "\n",
    "conn = sqlite3.connect('onlinefraud.db')\n",
    "\n",
    "\n",
    "encoding.to_sql('transactions', conn, if_exists='replace', index=False)"
   ]
  },
  {
   "cell_type": "markdown",
   "id": "909de268-357b-402d-9242-cf0deecfc924",
   "metadata": {},
   "source": [
    "## Exploratory Data Analysis"
   ]
  },
  {
   "cell_type": "code",
   "execution_count": 7,
   "id": "2f8fe175-1aaa-47f3-bfe7-ee8efd612525",
   "metadata": {},
   "outputs": [],
   "source": [
    "%matplotlib inline\n",
    "import matplotlib.pyplot as plt\n",
    "import seaborn as sns"
   ]
  },
  {
   "cell_type": "code",
   "execution_count": 8,
   "id": "06f4b0c3-1bb3-42d6-bf59-0ec8c7a08be9",
   "metadata": {},
   "outputs": [
    {
     "data": {
      "text/plain": [
       "isFraud\n",
       "0    9932\n",
       "1      68\n",
       "Name: count, dtype: int64"
      ]
     },
     "execution_count": 8,
     "metadata": {},
     "output_type": "execute_result"
    }
   ],
   "source": [
    "fraud_count = fraud['isFraud'].value_counts()\n",
    "\n",
    "fraud_count"
   ]
  },
  {
   "cell_type": "code",
   "execution_count": 9,
   "id": "b6521d48-c7ee-4f3d-835d-871ca97bde79",
   "metadata": {},
   "outputs": [
    {
     "data": {
      "text/plain": [
       "0.00684655658477648"
      ]
     },
     "execution_count": 9,
     "metadata": {},
     "output_type": "execute_result"
    }
   ],
   "source": [
    "x  = 68 / 9932\n",
    "\n",
    "x"
   ]
  },
  {
   "cell_type": "markdown",
   "id": "eb5ca96d-993a-4283-acae-b7e37bfd3acd",
   "metadata": {},
   "source": [
    "#### This means that only .6% of payments were fraudulent!"
   ]
  },
  {
   "cell_type": "code",
   "execution_count": 10,
   "id": "fc723656-b534-4038-a202-7c5d4c5162e8",
   "metadata": {},
   "outputs": [
    {
     "data": {
      "image/png": "[encoded data removed]",
      "text/plain": [
       "<Figure size 800x800 with 1 Axes>"
      ]
     },
     "metadata": {},
     "output_type": "display_data"
    }
   ],
   "source": [
    "payment_counts = fraud['type'].value_counts()\n",
    "\n",
    "plt.figure(figsize=(8, 8))  \n",
    "\n",
    "plt.pie(payment_counts, labels=payment_counts.index, autopct='%1.1f%%', startangle=90)\n",
    "\n",
    "plt.title(\"Distribution of Payment Types\")\n",
    "plt.savefig(\"plot#1.png\", dpi=300, bbox_inches=\"tight\")\n",
    "plt.show()\n"
   ]
  },
  {
   "cell_type": "code",
   "execution_count": 11,
   "id": "2be6c417-3484-4afa-bc47-41299f2afe8a",
   "metadata": {},
   "outputs": [
    {
     "data": {
      "image/png": "[encoded data removed]",
      "text/plain": [
       "<Figure size 640x480 with 1 Axes>"
      ]
     },
     "metadata": {},
     "output_type": "display_data"
    }
   ],
   "source": [
    "import sqlite3\n",
    "import pandas as pd\n",
    "import matplotlib.pyplot as plt\n",
    "\n",
    "# Connect to the SQLite database\n",
    "conn = sqlite3.connect(\"onlinefraud.db\")\n",
    "fraud.to_sql('fraud_transactions', conn, index=False, if_exists='replace')\n",
    "\n",
    "\n",
    "# SQL query to calculate the average transaction amount for fraudulent transactions\n",
    "query = \"\"\"\n",
    "SELECT type, AVG(amount) AS avg_amount\n",
    "FROM fraud_transactions\n",
    "WHERE isFraud = 1 AND type IN ('CASH_OUT', 'TRANSFER')\n",
    "GROUP BY type;\n",
    "\"\"\"\n",
    "\n",
    "# Execute the query and load the data into a pandas DataFrame\n",
    "df = pd.read_sql_query(query, conn)\n",
    "\n",
    "# Close the database connection\n",
    "conn.close()\n",
    "\n",
    "# Plot the data\n",
    "plt.bar(df['type'], df['avg_amount'], color=['blue', 'green'])\n",
    "\n",
    "\n",
    "plt.title(\"Average Transaction Amount for Fraudulent Transfers\")\n",
    "\n",
    "plt.xlabel(\"Transaction Type\")\n",
    "\n",
    "plt.ylabel(\"Average Amount\")\n",
    "\n",
    "plt.xticks(rotation=45)\n",
    "plt.savefig(\"plot#2.png\", dpi=300, bbox_inches=\"tight\")\n",
    "\n",
    "plt.show()\n"
   ]
  },
  {
   "cell_type": "code",
   "execution_count": null,
   "id": "6f578238-97dc-4587-9036-428397296398",
   "metadata": {},
   "outputs": [],
   "source": [
    "import sqlite3\n",
    "\n",
    "conn = sqlite3.connect('onlinefraud.db') \n",
    "\n",
    "fraud.to_sql('fraud_transactions', conn, index=False, if_exists='replace')\n",
    "\n",
    "conn.execute('CREATE INDEX IF NOT EXISTS idx_isFraud ON fraud_transactions(isFraud);')\n",
    "\n",
    "query = \"\"\"\n",
    "SELECT isFraud, \n",
    "       AVG(amount) AS avg_amount, \n",
    "       AVG(oldbalanceOrg) AS avg_oldbalanceOrg,\n",
    "       AVG(newbalanceOrig) AS avg_newbalanceOrig\n",
    "FROM fraud_transactions\n",
    "GROUP BY isFraud;\n",
    "\"\"\"\n",
    "\n",
    "fraud_by_type_sql = pd.read_sql(query, conn)\n",
    "\n",
    "fig, axes = plt.subplots(1, 3, figsize=(18, 6))\n",
    "\n",
    "# List of variables to plot\n",
    "variables = ['avg_amount', 'avg_oldbalanceOrg', 'avg_newbalanceOrig']\n",
    "titles = ['Average Amount', 'Average Old Balance', 'Average New Balance']\n",
    "\n",
    "\n",
    "for i, var in enumerate(variables):\n",
    "    ax = axes[i]\n",
    "    \n",
    "    data = fraud_by_type_sql.groupby('isFraud')[var].mean()\n",
    "    \n",
    "    ax.bar(['Legitimate', 'Fraudulent'], data, color=['green', 'red'])\n",
    "    \n",
    "    ax.set_title(titles[i], fontsize=14)\n",
    "    \n",
    "    ax.set_xlabel('Fraud Status (0=Legitimate, 1=Fraudulent)', fontsize=12)\n",
    "    \n",
    "    ax.set_ylabel(f'Average {titles[i]}', fontsize=12)\n",
    "    \n",
    "    ax.set_ylim(0, data.max() * 1.2)\n",
    "\n",
    "plt.tight_layout()\n",
    "\n",
    "plt.show()\n",
    "plt.savefig(\"plot#3.png\", dpi=300, bbox_inches=\"tight\")\n",
    "\n",
    "conn.close()\n"
   ]
  },
  {
   "cell_type": "markdown",
   "id": "e70857b6-62c4-4d95-a590-a82e72293f1b",
   "metadata": {},
   "source": [
    "### Interesting! We've scaled the data, which is why the values range from 0 to 1. \n",
    "\n",
    "### It's very clear that fraudulent transactions have much higher amounts than legitimate ones. Additionally, fraudulent transactions leave much lower newer balances compared to legitimate ones.\n",
    "\n",
    "#### Another interesting note, it appears that fraudulent transactions happen to people with lower balances. Interesting note"
   ]
  },
  {
   "cell_type": "code",
   "execution_count": null,
   "id": "e07f15af-4e94-4c58-939f-701e25a42fde",
   "metadata": {},
   "outputs": [],
   "source": [
    "%matplotlib inline\n",
    "import seaborn as sns\n",
    "import matplotlib.pyplot as plt\n",
    "\n",
    "try:\n",
    "    df = pd.DataFrame(fraud)\n",
    "    fraud_by_step = df.groupby(['step', 'isFraud']).size().unstack().fillna(0)\n",
    "\n",
    "    plt.figure(figsize=(12, 6))\n",
    "\n",
    "    # Non-Fraud Cases\n",
    "    plt.subplot(1, 2, 1)\n",
    "    \n",
    "    sns.lineplot(data=fraud_by_step[0], marker='o', color='blue')\n",
    "    \n",
    "    plt.title('Non-Fraud Cases Over Time (Steps)')\n",
    "    \n",
    "    plt.xlabel('Step')\n",
    "    \n",
    "    plt.ylabel('Number of Non-Fraud Transactions')\n",
    "\n",
    "    # Fraud Cases\n",
    "    plt.subplot(1, 2, 2)\n",
    "    \n",
    "    sns.lineplot(data=fraud_by_step[1], marker='o', color='red')\n",
    "    \n",
    "    plt.title('Fraud Cases Over Time (Steps)')\n",
    "    \n",
    "    plt.xlabel('Step')\n",
    "    \n",
    "    plt.ylabel('Number of Fraud Transactions')\n",
    "\n",
    "    plt.tight_layout()\n",
    "    \n",
    "    plt.savefig(\"plot#4.png\", dpi=300, bbox_inches=\"tight\")\n",
    "    \n",
    "    plt.show()\n",
    "\n",
    "except Exception as e:\n",
    "    print(\"Error occurred:\", e)\n"
   ]
  },
  {
   "cell_type": "markdown",
   "id": "b6227a90-0217-424c-b854-38b4e791756d",
   "metadata": {},
   "source": [
    "### Interesting! It seems that the majority of fraud cases happened in Step 6. Since there are 7 steps, I'm assuming that each step represents 1 day\n",
    "\n",
    "### That means that a majority of fraud cases happened on Saturday"
   ]
  },
  {
   "cell_type": "code",
   "execution_count": null,
   "id": "565f86fd-cd11-420e-a0e1-db4cdf3915af",
   "metadata": {},
   "outputs": [],
   "source": [
    "# Scatter plot of fraud vs origin account balance\n",
    "%matplotlib inline\n",
    "sns.scatterplot(x='oldbalanceOrg', y='amount', hue='isFraud', data=fraud, palette='coolwarm', s=100)\n",
    "\n",
    "plt.title('Fraud vs Origin Account Balance')\n",
    "\n",
    "plt.xlabel('Old Balance (Origin)')\n",
    "\n",
    "plt.ylabel('Transaction Amount')\n",
    "plt.tight_layout()\n",
    "plt.savefig(\"plot#5.png\", dpi=300, bbox_inches=\"tight\")\n",
    "plt.show()\n"
   ]
  },
  {
   "cell_type": "markdown",
   "id": "55f3ff15-fa90-49e5-b468-a89aaac765fd",
   "metadata": {},
   "source": [
    "### Interesting! Notice how the 2 big balances had big fraudulent transactions!\n",
    "\n",
    "\n",
    "## Now it's time develop predictive models\n",
    "\n",
    "### Logistic Regression"
   ]
  },
  {
   "cell_type": "code",
   "execution_count": 15,
   "id": "42006a5a-6a31-4daf-ab34-c01269aa0a61",
   "metadata": {},
   "outputs": [],
   "source": [
    "#Import libraries\n",
    "from sklearn.model_selection import train_test_split\n",
    "\n",
    "\n",
    "from sklearn.linear_model import LogisticRegression\n",
    "\n",
    "from sklearn.tree import DecisionTreeClassifier\n",
    "\n",
    "from sklearn.metrics import classification_report, roc_auc_score"
   ]
  },
  {
   "cell_type": "code",
   "execution_count": 16,
   "id": "a5512767-aba1-4f3d-a7ee-bb226babd2d3",
   "metadata": {},
   "outputs": [],
   "source": [
    "# One hot encoding\n",
    "X = encoding.drop(['isFraud', 'isFlaggedFraud'], axis=1)\n",
    "y = encoding['isFraud']"
   ]
  },
  {
   "cell_type": "code",
   "execution_count": 17,
   "id": "b60ea6e4-2f93-4b2b-85dc-b2258e2d1ac3",
   "metadata": {},
   "outputs": [],
   "source": [
    "X_train, X_test, y_train, y_test = train_test_split(X, y, test_size=0.3, random_state=42, stratify=y)"
   ]
  },
  {
   "cell_type": "code",
   "execution_count": 18,
   "id": "7f07cce5-1f37-41b2-a6aa-7d2bc2a04232",
   "metadata": {},
   "outputs": [
    {
     "name": "stdout",
     "output_type": "stream",
     "text": [
      "Logistic Regression Report:\n",
      "              precision    recall  f1-score   support\n",
      "\n",
      "           0       0.99      1.00      1.00      1488\n",
      "           1       0.00      0.00      0.00        12\n",
      "\n",
      "    accuracy                           0.99      1500\n",
      "   macro avg       0.50      0.50      0.50      1500\n",
      "weighted avg       0.98      0.99      0.99      1500\n",
      "\n"
     ]
    },
    {
     "name": "stderr",
     "output_type": "stream",
     "text": [
      "/usr/lib/anaconda3/lib/python3.12/site-packages/sklearn/metrics/_classification.py:1509: UndefinedMetricWarning: Precision is ill-defined and being set to 0.0 in labels with no predicted samples. Use `zero_division` parameter to control this behavior.\n",
      "  _warn_prf(average, modifier, f\"{metric.capitalize()} is\", len(result))\n",
      "/usr/lib/anaconda3/lib/python3.12/site-packages/sklearn/metrics/_classification.py:1509: UndefinedMetricWarning: Precision is ill-defined and being set to 0.0 in labels with no predicted samples. Use `zero_division` parameter to control this behavior.\n",
      "  _warn_prf(average, modifier, f\"{metric.capitalize()} is\", len(result))\n",
      "/usr/lib/anaconda3/lib/python3.12/site-packages/sklearn/metrics/_classification.py:1509: UndefinedMetricWarning: Precision is ill-defined and being set to 0.0 in labels with no predicted samples. Use `zero_division` parameter to control this behavior.\n",
      "  _warn_prf(average, modifier, f\"{metric.capitalize()} is\", len(result))\n"
     ]
    }
   ],
   "source": [
    "from sklearn.model_selection import train_test_split\n",
    "from sklearn.linear_model import LogisticRegression\n",
    "from sklearn.metrics import classification_report\n",
    "\n",
    "\n",
    "data = pd.read_csv('onlinefraud.csv',nrows=5000)\n",
    "data = data.drop(['nameOrig', 'nameDest'], axis=1)\n",
    "\n",
    "data = pd.get_dummies(data, columns=['type'], drop_first=True)\n",
    "\n",
    "from sklearn.preprocessing import MinMaxScaler\n",
    "\n",
    "scaler = MinMaxScaler()\n",
    "columns_to_scale = ['amount', 'oldbalanceOrg', 'newbalanceOrig', 'oldbalanceDest', 'newbalanceDest']\n",
    "data[columns_to_scale] = scaler.fit_transform(data[columns_to_scale])\n",
    "\n",
    "\n",
    "X = data.drop(['isFraud', 'isFlaggedFraud'], axis=1)  \n",
    "y = data['isFraud']\n",
    "\n",
    "X_train, X_test, y_train, y_test = train_test_split(X, y, test_size=0.3, random_state=42, stratify=y)\n",
    "\n",
    "lr_model = LogisticRegression(max_iter=1000)\n",
    "lr_model.fit(X_train, y_train)\n",
    "lr_preds = lr_model.predict(X_test)\n",
    "\n",
    "print(\"Logistic Regression Report:\")\n",
    "print(classification_report(y_test, lr_preds))\n"
   ]
  },
  {
   "cell_type": "markdown",
   "id": "223e4b7d-c0da-4d68-8ca5-317803707ca2",
   "metadata": {},
   "source": [
    "## RandomForest"
   ]
  },
  {
   "cell_type": "code",
   "execution_count": 19,
   "id": "ee2df630-af13-4762-aca2-eac9c4d3fa76",
   "metadata": {},
   "outputs": [
    {
     "name": "stdout",
     "output_type": "stream",
     "text": [
      "Random Forest Report:\n",
      "              precision    recall  f1-score   support\n",
      "\n",
      "           0       1.00      1.00      1.00      1488\n",
      "           1       1.00      0.50      0.67        12\n",
      "\n",
      "    accuracy                           1.00      1500\n",
      "   macro avg       1.00      0.75      0.83      1500\n",
      "weighted avg       1.00      1.00      1.00      1500\n",
      "\n",
      "AUC-ROC Score: 0.9998039874551972\n"
     ]
    }
   ],
   "source": [
    "from sklearn.ensemble import RandomForestClassifier\n",
    "\n",
    "rf_model = RandomForestClassifier(n_estimators=100, random_state=42)\n",
    "rf_model.fit(X_train, y_train)\n",
    "rf_preds = rf_model.predict(X_test)\n",
    "\n",
    "\n",
    "print(\"Random Forest Report:\")\n",
    "print(classification_report(y_test, rf_preds))\n",
    "print(f\"AUC-ROC Score: {roc_auc_score(y_test, rf_model.predict_proba(X_test)[:, 1])}\")\n"
   ]
  },
  {
   "cell_type": "markdown",
   "id": "a6867431-35aa-4ce3-9bc1-7af240db14f7",
   "metadata": {},
   "source": [
    "#### While this is better, it can only identify fraudulent transactions at a 50% rate. Let's work on this and improve it by adding SMOTE\n",
    "\n",
    "##### Why am I using SMOTE? Since this is fraudulent transaction data set, very few transactions are fraudulent, meaning the dataset is highly imbalanced. SMOTE stands for Synthetic Minority Oversampling Technique, where it is used for balancing an imbalanced dataset by creating new minority cases(I.E. making up synthetic fraud cases)"
   ]
  },
  {
   "cell_type": "code",
   "execution_count": 20,
   "id": "b5b25feb-d7c5-470c-9bac-537bb02bf421",
   "metadata": {},
   "outputs": [
    {
     "name": "stdout",
     "output_type": "stream",
     "text": [
      "Fitting 5 folds for each of 27 candidates, totalling 135 fits\n",
      "Random Forest Report:\n",
      "              precision    recall  f1-score   support\n",
      "\n",
      "           0       1.00      1.00      1.00      1488\n",
      "           1       0.59      0.83      0.69        12\n",
      "\n",
      "    accuracy                           0.99      1500\n",
      "   macro avg       0.79      0.91      0.84      1500\n",
      "weighted avg       1.00      0.99      0.99      1500\n",
      "\n",
      "AUC-ROC Score: 0.9972278225806451\n",
      "Random Forest Report (Adjusted Threshold):\n",
      "              precision    recall  f1-score   support\n",
      "\n",
      "           0       1.00      0.99      1.00      1488\n",
      "           1       0.50      0.92      0.65        12\n",
      "\n",
      "    accuracy                           0.99      1500\n",
      "   macro avg       0.75      0.95      0.82      1500\n",
      "weighted avg       1.00      0.99      0.99      1500\n",
      "\n",
      "AUC-ROC Score (Adjusted Threshold): 0.9972278225806451\n"
     ]
    }
   ],
   "source": [
    "from sklearn.ensemble import RandomForestClassifier\n",
    "from sklearn.model_selection import GridSearchCV\n",
    "from sklearn.metrics import classification_report, roc_auc_score\n",
    "from imblearn.over_sampling import SMOTE\n",
    "\n",
    "# 1. Oversample the Minority Class (SMOTE)\n",
    "smote = SMOTE(random_state=42)\n",
    "X_train_resampled, y_train_resampled = smote.fit_resample(X_train, y_train)\n",
    "\n",
    "# 2. Adjust Class Weights\n",
    "rf_model = RandomForestClassifier(random_state=42, class_weight={0: 1, 1: 10})\n",
    "\n",
    "# 3. Perform Hyperparameter Tuning with GridSearchCV\n",
    "param_grid = {\n",
    "    'n_estimators': [100, 200, 300],\n",
    "    'max_depth': [10, 20, None],\n",
    "    'min_samples_split': [2, 5, 10]\n",
    "}\n",
    "\n",
    "grid_search = GridSearchCV(estimator=rf_model,\n",
    "                           param_grid=param_grid,\n",
    "                           scoring='roc_auc',\n",
    "                           cv=5,\n",
    "                           verbose=1)\n",
    "\n",
    "grid_search.fit(X_train_resampled, y_train_resampled)\n",
    "\n",
    "# Use the best model\n",
    "best_rf_model = grid_search.best_estimator_\n",
    "\n",
    "# 4. Evaluate the Best Model\n",
    "rf_preds = best_rf_model.predict(X_test)\n",
    "rf_probs = best_rf_model.predict_proba(X_test)[:, 1]\n",
    "\n",
    "print(\"Random Forest Report:\")\n",
    "print(classification_report(y_test, rf_preds))\n",
    "print(f\"AUC-ROC Score: {roc_auc_score(y_test, rf_probs)}\")\n",
    "\n",
    "# 5. Adjust Prediction Threshold for Recall\n",
    "threshold = 0.3\n",
    "rf_preds_threshold = (rf_probs >= threshold).astype(int)\n",
    "print(\"Random Forest Report (Adjusted Threshold):\")\n",
    "print(classification_report(y_test, rf_preds_threshold))\n",
    "print(f\"AUC-ROC Score (Adjusted Threshold): {roc_auc_score(y_test, rf_probs)}\")\n"
   ]
  },
  {
   "cell_type": "markdown",
   "id": "461106b1-d81e-4298-ad24-00a4ab76acb6",
   "metadata": {},
   "source": [
    "###\n",
    "Default Threshold (0.5)\n",
    "Metrics Breakdown:\n",
    "\n",
    "    Precision (1): 0.59\n",
    "        Of all transactions predicted as fraud, 59% were actually fraudulent.\n",
    "        There are some false positives, but it’s reasonable given the recall improvement.\n",
    "\n",
    "    Recall (1): 0.83\n",
    "        The model successfully identified 83% of fraudulent transactions.\n",
    "        This is a significant improvement over the previous models, reducing the number of false negatives (missed frauds).\n",
    "\n",
    "    F1-Score (1): 0.69\n",
    "        A harmonic mean of precision and recall for fraudulent transactions. A higher F1-score indicates a good balance between precision and recall.\n",
    "\n",
    "    AUC-ROC Score: 0.9972\n",
    "        The model has excellent discriminatory power, distinguishing between legitimate and fraudulent transactions very well, and beats our goal of building a model with a higher accuracy rate than 0.9931534434152235!!!\n",
    "\n",
    "Adjusted Threshold (0.3)\n",
    "Metrics Breakdown:\n",
    "\n",
    "    Precision (1): 0.50\n",
    "        Precision dropped because lowering the threshold leads to more transactions being predicted as fraud (increasing false positives).\n",
    "\n",
    "    Recall (1): 0.92\n",
    "        Recall increased to 92%, meaning the model now catches nearly all fraudulent transactions.\n",
    "        This is critical in scenarios where missing a fraudulent transaction is costlier than a false alarm.\n",
    "\n",
    "    F1-Score (1): 0.65\n",
    "        The F1-score slightly dropped due to the trade-off between precision and recall, but recall improvement compensates for this.\n",
    "\n",
    "    Accuracy:\n",
    "        Accuracy remains very high (99%), but it’s less informative due to class imbalance (legitimate transactions dominate).\n",
    "\n",
    "    AUC-ROC Score: 0.9972\n",
    "        The AUC-ROC score remains unchanged, as it evaluates the model's ability to rank predictions rather than its classification threshold.\n",
    "\n",
    "Key Insights\n",
    "\n",
    "    Default Threshold (0.5):\n",
    "        Good balance between precision and recall.\n",
    "        Better suited for scenarios where precision is as important as recall (e.g., avoiding false positives to minimize investigation costs).\n",
    "\n",
    "    Adjusted Threshold (0.3):\n",
    "        High recall ensures nearly all fraudulent transactions are identified.\n",
    "        Ideal for scenarios where missing fraud (false negatives) has a significant cost or risk."
   ]
  },
  {
   "cell_type": "markdown",
   "id": "5460572d-b712-46bb-b69d-e4d32d731077",
   "metadata": {},
   "source": [
    "### Simulating a transaction"
   ]
  },
  {
   "cell_type": "code",
   "execution_count": 21,
   "id": "b99d6483-8ee5-445e-8b67-cd03b6b97bfa",
   "metadata": {},
   "outputs": [
    {
     "name": "stdout",
     "output_type": "stream",
     "text": [
      "Transaction Safe\n"
     ]
    }
   ],
   "source": [
    "# Simulate a transaction\n",
    "new_transaction = {\n",
    "    'step': 5,\n",
    "    'amount': 5000,\n",
    "    'oldbalanceOrg': 20000,\n",
    "    'newbalanceOrig': 15000,\n",
    "    'oldbalanceDest': 0,\n",
    "    'newbalanceDest': 0,\n",
    "    'type_CASH_OUT': 0,\n",
    "    'type_PAYMENT': 1,\n",
    "    'type_TRANSFER': 0,\n",
    "    'type_DEBIT': 0,\n",
    "    'type_DEPOSIT': 0\n",
    "}\n",
    "\n",
    "# Convert to DataFrame\n",
    "new_transaction_df = pd.DataFrame([new_transaction])\n",
    "\n",
    "# Normalize numerical data\n",
    "new_transaction_df[columns_to_scale] = scaler.transform(new_transaction_df[columns_to_scale])\n",
    "\n",
    "# Predict fraud\n",
    "# Ensure the transaction data has the same columns as the training data\n",
    "# Get the columns from the training data\n",
    "columns_in_training = X_train.columns  \n",
    "\n",
    "# Ensure new transaction has the same columns\n",
    "new_transaction_df = new_transaction_df[columns_in_training]\n",
    "\n",
    "# Normalize numerical data (only scale numerical features that were scaled during training)\n",
    "new_transaction_df[columns_to_scale] = scaler.transform(new_transaction_df[columns_to_scale])\n",
    "\n",
    "# Predict fraud\n",
    "fraud_prediction = best_rf_model.predict(new_transaction_df)\n",
    "print(\"Fraud Detected!\" if fraud_prediction[0] == 1 else \"Transaction Safe\")\n",
    "\n"
   ]
  },
  {
   "cell_type": "markdown",
   "id": "7fcad131-0b47-48db-bac0-36b6ac5ec260",
   "metadata": {},
   "source": [
    "### Since we have built a model that beats our standard and has a high F-1 Score and recall score, we can move on to testing out other methods\n",
    "\n",
    "### Testing out Neural Networks"
   ]
  },
  {
   "cell_type": "code",
   "execution_count": 22,
   "id": "9d1354e9-6bc4-4c02-bec2-143b8dbee93a",
   "metadata": {},
   "outputs": [
    {
     "name": "stderr",
     "output_type": "stream",
     "text": [
      "2024-12-10 03:16:13.627154: I external/local_xla/xla/tsl/cuda/cudart_stub.cc:32] Could not find cuda drivers on your machine, GPU will not be used.\n",
      "2024-12-10 03:16:13.631389: I external/local_xla/xla/tsl/cuda/cudart_stub.cc:32] Could not find cuda drivers on your machine, GPU will not be used.\n",
      "2024-12-10 03:16:13.641491: E external/local_xla/xla/stream_executor/cuda/cuda_fft.cc:477] Unable to register cuFFT factory: Attempting to register factory for plugin cuFFT when one has already been registered\n",
      "WARNING: All log messages before absl::InitializeLog() is called are written to STDERR\n",
      "E0000 00:00:1733800573.659533 2552697 cuda_dnn.cc:8310] Unable to register cuDNN factory: Attempting to register factory for plugin cuDNN when one has already been registered\n",
      "E0000 00:00:1733800573.664852 2552697 cuda_blas.cc:1418] Unable to register cuBLAS factory: Attempting to register factory for plugin cuBLAS when one has already been registered\n",
      "2024-12-10 03:16:13.682550: I tensorflow/core/platform/cpu_feature_guard.cc:210] This TensorFlow binary is optimized to use available CPU instructions in performance-critical operations.\n",
      "To enable the following instructions: AVX2 FMA, in other operations, rebuild TensorFlow with the appropriate compiler flags.\n"
     ]
    },
    {
     "name": "stdout",
     "output_type": "stream",
     "text": [
      "Epoch 1/10\n"
     ]
    },
    {
     "name": "stderr",
     "output_type": "stream",
     "text": [
      "/home/sb2116/.local/lib/python3.12/site-packages/keras/src/layers/core/dense.py:87: UserWarning: Do not pass an `input_shape`/`input_dim` argument to a layer. When using Sequential models, prefer using an `Input(shape)` object as the first layer in the model instead.\n",
      "  super().__init__(activity_regularizer=activity_regularizer, **kwargs)\n",
      "2024-12-10 03:16:15.557639: E external/local_xla/xla/stream_executor/cuda/cuda_driver.cc:152] failed call to cuInit: INTERNAL: CUDA error: Failed call to cuInit: UNKNOWN ERROR (303)\n"
     ]
    },
    {
     "name": "stdout",
     "output_type": "stream",
     "text": [
      "\u001b[1m250/250\u001b[0m \u001b[32m━━━━━━━━━━━━━━━━━━━━\u001b[0m\u001b[37m\u001b[0m \u001b[1m2s\u001b[0m 4ms/step - accuracy: 0.9019 - loss: 0.2977 - val_accuracy: 0.9905 - val_loss: 0.0415\n",
      "Epoch 2/10\n",
      "\u001b[1m250/250\u001b[0m \u001b[32m━━━━━━━━━━━━━━━━━━━━\u001b[0m\u001b[37m\u001b[0m \u001b[1m1s\u001b[0m 3ms/step - accuracy: 0.9945 - loss: 0.0303 - val_accuracy: 0.9905 - val_loss: 0.0382\n",
      "Epoch 3/10\n",
      "\u001b[1m250/250\u001b[0m \u001b[32m━━━━━━━━━━━━━━━━━━━━\u001b[0m\u001b[37m\u001b[0m \u001b[1m1s\u001b[0m 3ms/step - accuracy: 0.9944 - loss: 0.0259 - val_accuracy: 0.9905 - val_loss: 0.0339\n",
      "Epoch 4/10\n",
      "\u001b[1m250/250\u001b[0m \u001b[32m━━━━━━━━━━━━━━━━━━━━\u001b[0m\u001b[37m\u001b[0m \u001b[1m1s\u001b[0m 3ms/step - accuracy: 0.9947 - loss: 0.0221 - val_accuracy: 0.9910 - val_loss: 0.0318\n",
      "Epoch 5/10\n",
      "\u001b[1m250/250\u001b[0m \u001b[32m━━━━━━━━━━━━━━━━━━━━\u001b[0m\u001b[37m\u001b[0m \u001b[1m1s\u001b[0m 3ms/step - accuracy: 0.9930 - loss: 0.0269 - val_accuracy: 0.9910 - val_loss: 0.0331\n",
      "Epoch 6/10\n",
      "\u001b[1m250/250\u001b[0m \u001b[32m━━━━━━━━━━━━━━━━━━━━\u001b[0m\u001b[37m\u001b[0m \u001b[1m1s\u001b[0m 3ms/step - accuracy: 0.9938 - loss: 0.0244 - val_accuracy: 0.9910 - val_loss: 0.0301\n",
      "Epoch 7/10\n",
      "\u001b[1m250/250\u001b[0m \u001b[32m━━━━━━━━━━━━━━━━━━━━\u001b[0m\u001b[37m\u001b[0m \u001b[1m1s\u001b[0m 3ms/step - accuracy: 0.9937 - loss: 0.0238 - val_accuracy: 0.9915 - val_loss: 0.0294\n",
      "Epoch 8/10\n",
      "\u001b[1m250/250\u001b[0m \u001b[32m━━━━━━━━━━━━━━━━━━━━\u001b[0m\u001b[37m\u001b[0m \u001b[1m1s\u001b[0m 3ms/step - accuracy: 0.9951 - loss: 0.0218 - val_accuracy: 0.9910 - val_loss: 0.0285\n",
      "Epoch 9/10\n",
      "\u001b[1m250/250\u001b[0m \u001b[32m━━━━━━━━━━━━━━━━━━━━\u001b[0m\u001b[37m\u001b[0m \u001b[1m1s\u001b[0m 3ms/step - accuracy: 0.9926 - loss: 0.0250 - val_accuracy: 0.9920 - val_loss: 0.0281\n",
      "Epoch 10/10\n",
      "\u001b[1m250/250\u001b[0m \u001b[32m━━━━━━━━━━━━━━━━━━━━\u001b[0m\u001b[37m\u001b[0m \u001b[1m1s\u001b[0m 3ms/step - accuracy: 0.9924 - loss: 0.0268 - val_accuracy: 0.9910 - val_loss: 0.0311\n",
      "\u001b[1m63/63\u001b[0m \u001b[32m━━━━━━━━━━━━━━━━━━━━\u001b[0m\u001b[37m\u001b[0m \u001b[1m0s\u001b[0m 3ms/step\n",
      "Accuracy: 0.991\n",
      "              precision    recall  f1-score   support\n",
      "\n",
      "           0       0.99      1.00      1.00      1981\n",
      "           1       1.00      0.05      0.10        19\n",
      "\n",
      "    accuracy                           0.99      2000\n",
      "   macro avg       1.00      0.53      0.55      2000\n",
      "weighted avg       0.99      0.99      0.99      2000\n",
      "\n"
     ]
    }
   ],
   "source": [
    "# Importing necessary libraries\n",
    "import numpy as np\n",
    "from sklearn.model_selection import train_test_split\n",
    "from sklearn.preprocessing import StandardScaler\n",
    "from tensorflow.keras.models import Sequential\n",
    "from tensorflow.keras.layers import Dense\n",
    "from tensorflow.keras.optimizers import Adam\n",
    "from sklearn.metrics import classification_report, accuracy_score\n",
    "\n",
    "data = pd.read_csv('onlinefraud.csv',nrows=10000)\n",
    "\n",
    "# Drop unnecessary columns \n",
    "data = data.drop(['nameOrig', 'nameDest'], axis=1)\n",
    "\n",
    "# Convert categorical columns to one-hot encoding\n",
    "data = pd.get_dummies(data, columns=['type'], drop_first=True)\n",
    "\n",
    "# Split the dataset into features (X) and target variable (y)\n",
    "X = data.drop(['isFraud', 'isFlaggedFraud'], axis=1) \n",
    "y = data['isFraud']  # Target (Fraud: 1, Not Fraud: 0)\n",
    "\n",
    "# Split the data into training and validation sets (80% train, 20% validation)\n",
    "X_train, X_val, y_train, y_val = train_test_split(X, y, test_size=0.2, random_state=42)\n",
    "\n",
    "# Normalize the features (Scale them to range between 0 and 1)\n",
    "scaler = StandardScaler()\n",
    "X_train_scaled = scaler.fit_transform(X_train)\n",
    "X_val_scaled = scaler.transform(X_val)\n",
    "\n",
    "# Build the Neural Network Model\n",
    "model = Sequential()\n",
    "\n",
    "# Add input layer and hidden layers\n",
    "model.add(Dense(64, input_dim=X_train_scaled.shape[1], activation='relu'))\n",
    "model.add(Dense(32, activation='relu'))\n",
    "model.add(Dense(16, activation='relu'))\n",
    "\n",
    "# Add the output layer\n",
    "model.add(Dense(1, activation='sigmoid'))  # Sigmoid because it's a binary classification problem\n",
    "\n",
    "# Compile the model\n",
    "model.compile(optimizer=Adam(), loss='binary_crossentropy', metrics=['accuracy'])\n",
    "\n",
    "# Train the model\n",
    "history = model.fit(X_train_scaled, y_train, epochs=10, batch_size=32, validation_data=(X_val_scaled, y_val))\n",
    "\n",
    "# Evaluate the model on the validation data\n",
    "y_val_pred = model.predict(X_val_scaled)\n",
    "y_val_pred = (y_val_pred > 0.5).astype(int)  # Convert probabilities to binary (fraud or not)\n",
    "\n",
    "# Evaluate the performance\n",
    "print(\"Accuracy:\", accuracy_score(y_val, y_val_pred))\n",
    "print(classification_report(y_val, y_val_pred))"
   ]
  },
  {
   "cell_type": "markdown",
   "id": "5abb2883-0c92-4b04-adae-62a2712cdeb5",
   "metadata": {},
   "source": [
    "1. Accuracy:\n",
    "\n",
    "    0.992 (99.2%) means the model correctly classified 99.2% of the transactions, which suggests it's a high-performing model overall. However, accuracy can be misleading when the dataset is imbalanced (like fraud detection where fraudulent transactions are rare). \n",
    "\n",
    "2. Precision:\n",
    "    Precision is the ratio of true positives (correctly predicted fraud transactions) to all predicted positives (all transactions predicted as fraud).\n",
    "    For Class 0 (Non-Fraud):\n",
    "        Precision = 0.99, meaning that 99% of transactions predicted as non-fraud were actually non-fraud.\n",
    "    For Class 1 (Fraud):\n",
    "        Precision = 1.00, meaning that 100% of transactions predicted as fraud were actually fraud. This is ideal, indicating no false positives for fraud predictions.\n",
    "\n",
    "3. Recall:\n",
    "    Recall is the ratio of true positives (correctly predicted fraud transactions) to all actual positives (all fraud transactions in the dataset).\n",
    "    For Class 0 (Non-Fraud):\n",
    "        Recall = 1.00, meaning the model correctly identified all non-fraudulent transactions.\n",
    "    For Class 1 (Fraud):\n",
    "        Recall = 0.16, meaning that only 16% of actual fraud transactions were correctly identified by the model. This is a low recall for fraud detection, meaning the model misses most of the fraudulent transactions. This is a major concern because it means the model is failing to detect many fraudulent transactions.\n",
    "\n",
    "4. F1-Score:\n",
    "    F1-score is the harmonic mean of precision and recall, and it gives a single metric that balances the two. It’s particularly useful when dealing with imbalanced datasets.\n",
    "    For Class 0 (Non-Fraud):\n",
    "        F1-score = 1.00, indicating perfect performance on detecting non-fraudulent transactions.\n",
    "    For Class 1 (Fraud):\n",
    "        F1-score = 0.27, which is very low. This indicates that even though the precision is perfect (no false positives for fraud), the recall is very low, meaning the model misses a lot of fraud cases.\n",
    "\n",
    "5. Support:\n",
    "    Support represents the number of true instances for each class (the number of actual non-fraud and fraud transactions in the dataset).\n",
    "    For Class 0 (Non-Fraud):\n",
    "        Support = 1981, indicating that the majority of the data is non-fraudulent.\n",
    "    For Class 1 (Fraud):\n",
    "        Support = 19, indicating a very small number of fraud cases in the dataset. This imbalanced distribution is why the model has high accuracy, but fails to detect fraud well.\n",
    "6. Macro Average:\n",
    "    The macro average is the average of precision, recall, and F1-score for both classes, computed independently. It does not account for class imbalance.\n",
    "    Precision = 1.00, Recall = 0.58, and F1-score = 0.63.\n",
    "    This shows that while the precision for fraud is perfect, the recall and F1-score are much lower due to the model’s poor ability to detect fraud.\n",
    "7. Weighted Average:\n",
    "\n",
    "    The weighted average takes into account the number of instances in each class, providing a better representation of overall performance, especially in imbalanced datasets.\n",
    "    Precision = 0.99, Recall = 0.99, and F1-score = 0.99, which are all very high, indicating that overall, the model performs very well at predicting non-fraud transactions.\n",
    "\n",
    "Interpretation:\n",
    "\n",
    "   8.  Overall Performance: The model achieves very high accuracy, precision, and F1-scores for non-fraudulent transactions, but struggles with detecting fraud.\n",
    "    Imbalanced Dataset Issue: The low recall for fraud (16%) is a major issue, especially in fraud detection where the goal is to minimize missed fraud cases (false negatives). This low recall indicates that the model is not identifying most of the fraud cases, even though it has a high precision for fraud predictions (no false positives).\n",
    "\n",
    "9. It's clear that the neural network's performance does not compare to the combination of randomForest + SMOTE"
   ]
  },
  {
   "cell_type": "code",
   "execution_count": null,
   "id": "249c81a8-8ece-4598-80cb-94efcf482345",
   "metadata": {},
   "outputs": [],
   "source": []
  }
 ],
 "metadata": {
  "kernelspec": {
   "display_name": "Python 3 (ipykernel)",
   "language": "python",
   "name": "python3"
  },
  "language_info": {
   "codemirror_mode": {
    "name": "ipython",
    "version": 3
   },
   "file_extension": ".py",
   "mimetype": "text/x-python",
   "name": "python",
   "nbconvert_exporter": "python",
   "pygments_lexer": "ipython3",
   "version": "3.12.2"
  }
 },
 "nbformat": 4,
 "nbformat_minor": 5
}
